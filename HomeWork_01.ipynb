{
 "cells": [
  {
   "cell_type": "code",
   "execution_count": 1,
   "id": "12052edc",
   "metadata": {},
   "outputs": [
    {
     "name": "stdout",
     "output_type": "stream",
     "text": [
      "result_1 is 6\n",
      "Type of result_1: <class 'int'>\n"
     ]
    }
   ],
   "source": [
    "# Task 2\n",
    "\n",
    "result_1 = 2 * 3\n",
    "print(f'result_1 is {result_1}')\n",
    "print(f'Type of result_1: {type(result_1)}')"
   ]
  },
  {
   "cell_type": "code",
   "execution_count": 2,
   "id": "d8d8b6cb",
   "metadata": {},
   "outputs": [
    {
     "name": "stdout",
     "output_type": "stream",
     "text": [
      "result_2 is 5.667\n",
      "Type of result_2: <class 'float'>\n"
     ]
    }
   ],
   "source": [
    "# Task 2\n",
    "\n",
    "result_2 = (3 * 3 + 8) / 3\n",
    "print(f'result_2 is {round(result_2, 3)}')\n",
    "print(f'Type of result_2: {type(result_2)}')"
   ]
  },
  {
   "cell_type": "code",
   "execution_count": 4,
   "id": "fd2ae5c7",
   "metadata": {},
   "outputs": [
    {
     "name": "stdout",
     "output_type": "stream",
     "text": [
      "result_3 is 2\n",
      "Type of result_3: <class 'int'>\n"
     ]
    }
   ],
   "source": [
    "# Task 2\n",
    "\n",
    "result_3 = 8 // 3\n",
    "print(f'result_3 is {result_3}')\n",
    "print(f'Type of result_3: {type(result_3)}')"
   ]
  },
  {
   "cell_type": "code",
   "execution_count": 5,
   "id": "4c1a21dd",
   "metadata": {},
   "outputs": [
    {
     "name": "stdout",
     "output_type": "stream",
     "text": [
      "result_4 is 2\n",
      "Type of result_4: <class 'int'>\n"
     ]
    }
   ],
   "source": [
    "# Task 2\n",
    "\n",
    "result_4 = 8 % 3\n",
    "print(f'result_4 is {result_4}')\n",
    "print(f'Type of result_4: {type(result_4)}')"
   ]
  },
  {
   "cell_type": "code",
   "execution_count": 6,
   "id": "2246bcad",
   "metadata": {},
   "outputs": [
    {
     "name": "stdout",
     "output_type": "stream",
     "text": [
      "result_5 is 25\n",
      "Type of result_5: <class 'int'>\n"
     ]
    }
   ],
   "source": [
    "# Task 2\n",
    "\n",
    "result_5 = 5 ** 2\n",
    "print(f'result_5 is {result_5}')\n",
    "print(f'Type of result_5: {type(result_5)}')"
   ]
  },
  {
   "cell_type": "code",
   "execution_count": 7,
   "id": "35501a02",
   "metadata": {},
   "outputs": [
    {
     "name": "stdout",
     "output_type": "stream",
     "text": [
      "result_6 is Helloworld\n",
      "Type of result_6: <class 'str'>\n"
     ]
    }
   ],
   "source": [
    "# Task 2\n",
    "\n",
    "result_6 = 'Hello' + 'world'\n",
    "print(f'result_6 is {result_6}')\n",
    "print(f'Type of result_6: {type(result_6)}')"
   ]
  },
  {
   "cell_type": "code",
   "execution_count": 8,
   "id": "3ee7681c",
   "metadata": {},
   "outputs": [
    {
     "name": "stdout",
     "output_type": "stream",
     "text": [
      "result_7 is PythonPythonPythonPythonPython\n",
      "Type of result_7: <class 'str'>\n"
     ]
    }
   ],
   "source": [
    "# Task 2\n",
    "\n",
    "result_7 = 'Python' * 5\n",
    "print(f'result_7 is {result_7}')\n",
    "print(f'Type of result_7: {type(result_7)}')"
   ]
  },
  {
   "cell_type": "code",
   "execution_count": 9,
   "id": "c06a23fc",
   "metadata": {},
   "outputs": [
    {
     "name": "stdout",
     "output_type": "stream",
     "text": [
      "result_8 is True\n",
      "Type of result_8: <class 'bool'>\n"
     ]
    }
   ],
   "source": [
    "# Task 2\n",
    "\n",
    "result_8 = 5 < 9\n",
    "print(f'result_8 is {result_8}')\n",
    "print(f'Type of result_8: {type(result_8)}')"
   ]
  },
  {
   "cell_type": "code",
   "execution_count": 10,
   "id": "4608ee94",
   "metadata": {},
   "outputs": [
    {
     "name": "stdout",
     "output_type": "stream",
     "text": [
      "Georgiy Pancheshenko\n"
     ]
    }
   ],
   "source": [
    "# Task 3. Створити дві змінні текстового типу, використовуючи одинарні і подвійні лапки. Для прикладу, Ваше ім'я та прізвище.\n",
    "\n",
    "first_name = 'Georgiy'      \n",
    "last_name = \"Pancheshenko\"  \n",
    "\n",
    "print(first_name, last_name)"
   ]
  },
  {
   "cell_type": "code",
   "execution_count": 11,
   "id": "320db570",
   "metadata": {},
   "outputs": [
    {
     "name": "stdout",
     "output_type": "stream",
     "text": [
      "In the fac\n",
      " the face \n",
      " to guess.\n",
      ".sseug ot noitatpmet eht esufer ,ytiugibma fo ecaf eht nI\n",
      "I h aeo miut,rfs h epaint us.\n",
      "ntefc fabgiy euetetmtto oges\n"
     ]
    }
   ],
   "source": [
    "# Task 4\n",
    "\n",
    "fav_principle = \"In the face of ambiguity, refuse the temptation to guess.\"\n",
    "\n",
    "print(fav_principle[:10])    # вивести перші 10 символів рядка\n",
    "print(fav_principle[2:12])   # вивести 10 символів, починаючи із 3-го \n",
    "print(fav_principle[-10:])   # вивести останні 10 символів рядка (від'ємна індексація)\n",
    "print(fav_principle[::-1])   # вивести весь рядок в зворотному порядку\n",
    "print(fav_principle[::2])    # вивести символи із парними індексами\n",
    "print(fav_principle[1::2])   # вивести символи із непарними індексами"
   ]
  },
  {
   "cell_type": "code",
   "execution_count": 12,
   "id": "d110814f",
   "metadata": {},
   "outputs": [
    {
     "name": "stdout",
     "output_type": "stream",
     "text": [
      " \"I'm getting better at this!\" \n"
     ]
    }
   ],
   "source": [
    "# Task 5. Збережіть наступний текст у змінну і виведіть через функцію print, не втративши ні одинарні, ні подвійні лапки.\n",
    "\n",
    "text = \"\"\" \"I'm getting better at this!\" \"\"\"\n",
    "\n",
    "print(text)"
   ]
  },
  {
   "cell_type": "code",
   "execution_count": 13,
   "id": "37b87503",
   "metadata": {},
   "outputs": [
    {
     "name": "stdout",
     "output_type": "stream",
     "text": [
      "This is line one!\n",
      "And this is line two!\n"
     ]
    }
   ],
   "source": [
    "# Task 6. Зберегти багаторядковий стрінг у змінну.\n",
    "\n",
    "text = \"\"\"This is line one!\n",
    "And this is line two!\"\"\"\n",
    "\n",
    "print(text)"
   ]
  },
  {
   "cell_type": "code",
   "execution_count": 16,
   "id": "9d1a66f0",
   "metadata": {},
   "outputs": [
    {
     "name": "stdout",
     "output_type": "stream",
     "text": [
      "Length of the text: 5 symbols\n"
     ]
    }
   ],
   "source": [
    "# Task 7. Вивести довжину текстового рядка.\n",
    "\n",
    "text = 'Text!'\n",
    "\n",
    "print(f\"Length of the text: {len(text)} symbols\")"
   ]
  },
  {
   "cell_type": "code",
   "execution_count": null,
   "id": "e93bc9f2",
   "metadata": {},
   "outputs": [
    {
     "name": "stdout",
     "output_type": "stream",
     "text": [
      "y = -877000000000.0\n",
      "z = 8.77e-09\n",
      "y > z: False\n"
     ]
    }
   ],
   "source": [
    "# Task 8. Вивести та порівняти змінні y та z.\n",
    "\n",
    "y = -87.7e10   # -(87.7 * 10**10), негативне число\n",
    "z = 87.7e-10   # 87.7 * 10**-10, позитивне число\n",
    "\n",
    "print(\"y =\", y)\n",
    "print(\"z =\", z)\n",
    "print(\"y > z:\", y > z)   # в данному випадку буде False, тому що \"y\" менш ніж \"z\""
   ]
  }
 ],
 "metadata": {
  "kernelspec": {
   "display_name": "Python 3",
   "language": "python",
   "name": "python3"
  },
  "language_info": {
   "codemirror_mode": {
    "name": "ipython",
    "version": 3
   },
   "file_extension": ".py",
   "mimetype": "text/x-python",
   "name": "python",
   "nbconvert_exporter": "python",
   "pygments_lexer": "ipython3",
   "version": "3.11.2"
  }
 },
 "nbformat": 4,
 "nbformat_minor": 5
}
