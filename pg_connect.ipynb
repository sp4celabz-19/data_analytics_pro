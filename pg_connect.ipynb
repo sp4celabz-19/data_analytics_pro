{
 "cells": [
  {
   "cell_type": "code",
   "execution_count": 6,
   "id": "21a00e3c-de29-470b-9286-996340075bed",
   "metadata": {},
   "outputs": [
    {
     "data": {
      "text/plain": [
       "[(1,\n",
       "  'Alice Johnson',\n",
       "  'alice.j@example.com',\n",
       "  datetime.date(2024, 9, 1),\n",
       "  datetime.datetime(2025, 6, 28, 14, 30),\n",
       "  True,\n",
       "  Decimal('3.85'),\n",
       "  ['CS101', 'MATH202', 'ENG150'],\n",
       "  ['Merit Scholarship']),\n",
       " (2,\n",
       "  'Bob Smith',\n",
       "  'bob.smith@example.com',\n",
       "  datetime.date(2024, 9, 3),\n",
       "  datetime.datetime(2025, 6, 30, 9, 10),\n",
       "  False,\n",
       "  Decimal('2.95'),\n",
       "  ['HIST110', 'PHIL101'],\n",
       "  [])]"
      ]
     },
     "execution_count": 6,
     "metadata": {},
     "output_type": "execute_result"
    }
   ],
   "source": [
    "import psycopg2\n",
    "\n",
    "from configs import PASSWORD\n",
    "\n",
    "conn = psycopg2.connect(database=\"postgres\",\n",
    "                        host=\"localhost\",\n",
    "                        user=\"postgres\",\n",
    "                        password=PASSWORD,\n",
    "                        port=\"5432\")\n",
    "cursor = conn.cursor()\n",
    "\n",
    "cursor.execute(\"SELECT * FROM student_profiles\")\n",
    "data = cursor.fetchall()\n",
    "data[:2]"
   ]
  },
  {
   "cell_type": "code",
   "execution_count": 7,
   "id": "98dbe71e-9070-49a4-8e0a-359969151151",
   "metadata": {},
   "outputs": [
    {
     "name": "stderr",
     "output_type": "stream",
     "text": [
      "/var/folders/m9/n5xhgfwn0jx6ppxx2nlb_h_r0000gp/T/ipykernel_66600/875209993.py:12: UserWarning: pandas only supports SQLAlchemy connectable (engine/connection) or database string URI or sqlite3 DBAPI2 connection. Other DBAPI2 objects are not tested. Please consider using SQLAlchemy.\n",
      "  pd.read_sql(\"SELECT * FROM student_profiles\", conn).head(2)\n"
     ]
    },
    {
     "data": {
      "text/html": [
       "<div>\n",
       "<style scoped>\n",
       "    .dataframe tbody tr th:only-of-type {\n",
       "        vertical-align: middle;\n",
       "    }\n",
       "\n",
       "    .dataframe tbody tr th {\n",
       "        vertical-align: top;\n",
       "    }\n",
       "\n",
       "    .dataframe thead th {\n",
       "        text-align: right;\n",
       "    }\n",
       "</style>\n",
       "<table border=\"1\" class=\"dataframe\">\n",
       "  <thead>\n",
       "    <tr style=\"text-align: right;\">\n",
       "      <th></th>\n",
       "      <th>id</th>\n",
       "      <th>full_name</th>\n",
       "      <th>email</th>\n",
       "      <th>signup_date</th>\n",
       "      <th>last_login</th>\n",
       "      <th>is_active</th>\n",
       "      <th>gpa</th>\n",
       "      <th>enrolled_classes</th>\n",
       "      <th>scholarships</th>\n",
       "    </tr>\n",
       "  </thead>\n",
       "  <tbody>\n",
       "    <tr>\n",
       "      <th>0</th>\n",
       "      <td>1</td>\n",
       "      <td>Alice Johnson</td>\n",
       "      <td>alice.j@example.com</td>\n",
       "      <td>2024-09-01</td>\n",
       "      <td>2025-06-28 14:30:00</td>\n",
       "      <td>True</td>\n",
       "      <td>3.85</td>\n",
       "      <td>[CS101, MATH202, ENG150]</td>\n",
       "      <td>[Merit Scholarship]</td>\n",
       "    </tr>\n",
       "    <tr>\n",
       "      <th>1</th>\n",
       "      <td>2</td>\n",
       "      <td>Bob Smith</td>\n",
       "      <td>bob.smith@example.com</td>\n",
       "      <td>2024-09-03</td>\n",
       "      <td>2025-06-30 09:10:00</td>\n",
       "      <td>False</td>\n",
       "      <td>2.95</td>\n",
       "      <td>[HIST110, PHIL101]</td>\n",
       "      <td>[]</td>\n",
       "    </tr>\n",
       "  </tbody>\n",
       "</table>\n",
       "</div>"
      ],
      "text/plain": [
       "   id      full_name                  email signup_date          last_login  \\\n",
       "0   1  Alice Johnson    alice.j@example.com  2024-09-01 2025-06-28 14:30:00   \n",
       "1   2      Bob Smith  bob.smith@example.com  2024-09-03 2025-06-30 09:10:00   \n",
       "\n",
       "   is_active   gpa          enrolled_classes         scholarships  \n",
       "0       True  3.85  [CS101, MATH202, ENG150]  [Merit Scholarship]  \n",
       "1      False  2.95        [HIST110, PHIL101]                   []  "
      ]
     },
     "execution_count": 7,
     "metadata": {},
     "output_type": "execute_result"
    }
   ],
   "source": [
    "import pandas as pd\n",
    "import psycopg2\n",
    "\n",
    "from configs import PASSWORD\n",
    "\n",
    "conn = psycopg2.connect(database=\"postgres\",\n",
    "                        host=\"localhost\",\n",
    "                        user=\"postgres\",\n",
    "                        password=PASSWORD,\n",
    "                        port=\"5432\")\n",
    "\n",
    "pd.read_sql(\"SELECT * FROM student_profiles\", conn).head(2)"
   ]
  },
  {
   "cell_type": "code",
   "execution_count": 8,
   "id": "7a8d7230-f60d-4849-a30b-f9f9e273f3c8",
   "metadata": {},
   "outputs": [
    {
     "data": {
      "text/html": [
       "<div>\n",
       "<style scoped>\n",
       "    .dataframe tbody tr th:only-of-type {\n",
       "        vertical-align: middle;\n",
       "    }\n",
       "\n",
       "    .dataframe tbody tr th {\n",
       "        vertical-align: top;\n",
       "    }\n",
       "\n",
       "    .dataframe thead th {\n",
       "        text-align: right;\n",
       "    }\n",
       "</style>\n",
       "<table border=\"1\" class=\"dataframe\">\n",
       "  <thead>\n",
       "    <tr style=\"text-align: right;\">\n",
       "      <th></th>\n",
       "      <th>id</th>\n",
       "      <th>full_name</th>\n",
       "      <th>email</th>\n",
       "      <th>signup_date</th>\n",
       "      <th>last_login</th>\n",
       "      <th>is_active</th>\n",
       "      <th>gpa</th>\n",
       "      <th>enrolled_classes</th>\n",
       "      <th>scholarships</th>\n",
       "    </tr>\n",
       "  </thead>\n",
       "  <tbody>\n",
       "    <tr>\n",
       "      <th>0</th>\n",
       "      <td>1</td>\n",
       "      <td>Alice Johnson</td>\n",
       "      <td>alice.j@example.com</td>\n",
       "      <td>2024-09-01</td>\n",
       "      <td>2025-06-28 14:30:00</td>\n",
       "      <td>True</td>\n",
       "      <td>3.85</td>\n",
       "      <td>[CS101, MATH202, ENG150]</td>\n",
       "      <td>[Merit Scholarship]</td>\n",
       "    </tr>\n",
       "    <tr>\n",
       "      <th>1</th>\n",
       "      <td>2</td>\n",
       "      <td>Bob Smith</td>\n",
       "      <td>bob.smith@example.com</td>\n",
       "      <td>2024-09-03</td>\n",
       "      <td>2025-06-30 09:10:00</td>\n",
       "      <td>False</td>\n",
       "      <td>2.95</td>\n",
       "      <td>[HIST110, PHIL101]</td>\n",
       "      <td>[]</td>\n",
       "    </tr>\n",
       "  </tbody>\n",
       "</table>\n",
       "</div>"
      ],
      "text/plain": [
       "   id      full_name                  email signup_date          last_login  \\\n",
       "0   1  Alice Johnson    alice.j@example.com  2024-09-01 2025-06-28 14:30:00   \n",
       "1   2      Bob Smith  bob.smith@example.com  2024-09-03 2025-06-30 09:10:00   \n",
       "\n",
       "   is_active   gpa          enrolled_classes         scholarships  \n",
       "0       True  3.85  [CS101, MATH202, ENG150]  [Merit Scholarship]  \n",
       "1      False  2.95        [HIST110, PHIL101]                   []  "
      ]
     },
     "execution_count": 8,
     "metadata": {},
     "output_type": "execute_result"
    }
   ],
   "source": [
    "from sqlalchemy import create_engine\n",
    "\n",
    "con_alch = create_engine('postgresql://{user}:{password}@{host}/{dbname}'.format(\n",
    "            dbname=\"postgres\", user=\"postgres\", password=PASSWORD, host=\"localhost\"))\n",
    "\n",
    "pd.read_sql(\"SELECT * FROM student_profiles\", con_alch).head(2)"
   ]
  }
 ],
 "metadata": {
  "kernelspec": {
   "display_name": "Python 3 (ipykernel)",
   "language": "python",
   "name": "python3"
  },
  "language_info": {
   "codemirror_mode": {
    "name": "ipython",
    "version": 3
   },
   "file_extension": ".py",
   "mimetype": "text/x-python",
   "name": "python",
   "nbconvert_exporter": "python",
   "pygments_lexer": "ipython3",
   "version": "3.9.6"
  }
 },
 "nbformat": 4,
 "nbformat_minor": 5
}
