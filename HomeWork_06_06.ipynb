{
 "cells": [
  {
   "cell_type": "code",
   "execution_count": null,
   "id": "4b92a1eb",
   "metadata": {},
   "outputs": [
    {
     "name": "stdout",
     "output_type": "stream",
     "text": [
      "title: The Stand\n",
      "authors: Stephen King\n",
      "categories: Fiction\n",
      "pageCount: 1562\n",
      "averageRating: 5\n",
      "ratingsCount: 4\n",
      "publishedDate: 2008-12-11\n",
      "description: Stephen King's apocalyptic vision of a world blasted by virus and tangled in an elemental struggle between good and evil remains as riveting and eerily plausible as when it was first published. Soon to be a television series. 'THE STAND is a masterpiece' (Guardian). Set in a virus-decimated US, King...\n"
     ]
    }
   ],
   "source": [
    "import requests\n",
    "import time\n",
    "\n",
    "\n",
    "def fetch_book_info(title, author=None, sleep=1.0):\n",
    "\n",
    "    try:\n",
    "        query = f\"intitle:{title}\"\n",
    "        \n",
    "        if author:\n",
    "            query += f\"+inauthor:{author}\"\n",
    "\n",
    "        url = \"https://www.googleapis.com/books/v1/volumes\"\n",
    "        params = {\"q\": query, \"maxResults\": 1}\n",
    "\n",
    "        response = requests.get(url, params=params)\n",
    "        time.sleep(sleep)\n",
    "\n",
    "        if response.status_code != 200:\n",
    "            response.raise_for_status()\n",
    "\n",
    "        data = response.json()\n",
    "\n",
    "        if \"items\" not in data:\n",
    "            return None\n",
    "\n",
    "        book = data[\"items\"][0][\"volumeInfo\"]\n",
    "\n",
    "        return {\n",
    "            \"title\": book.get(\"title\"),\n",
    "            \"authors\": \", \".join(book.get(\"authors\", [])),\n",
    "            \"categories\": \", \".join(book.get(\"categories\", [])),\n",
    "            \"pageCount\": book.get(\"pageCount\"),\n",
    "            \"averageRating\": book.get(\"averageRating\"),\n",
    "            \"ratingsCount\": book.get(\"ratingsCount\"),\n",
    "            \"publishedDate\": book.get(\"publishedDate\"),\n",
    "            \"description\": (book.get(\"description\") or \"\")[:300] + \"...\",\n",
    "        }\n",
    "\n",
    "    except requests.exceptions.RequestException as e:\n",
    "        print(f\"Error: {e}\")\n",
    "        return None\n",
    "\n",
    "\n",
    "if __name__ == \"__main__\":\n",
    "    result = fetch_book_info(\"Stand\", \"Stephen King\", sleep=5)\n",
    "    if result:\n",
    "        for k, v in result.items():\n",
    "            print(f\"{k}: {v}\")\n",
    "    else:\n",
    "        print(\"No information about this book\")\n"
   ]
  },
  {
   "cell_type": "code",
   "execution_count": 17,
   "id": "bc4e15e3",
   "metadata": {},
   "outputs": [
    {
     "name": "stdout",
     "output_type": "stream",
     "text": [
      "Victor Olegovich Pelevin (Russian: Виктор Олегович Пелевин, IPA: [ˈvʲiktər ɐˈlʲeɡəvʲɪtɕ pʲɪˈlʲevʲɪn]; born 22 November 1962) is a Russian fiction writer. His novels include Omon Ra (1992), The Life of Insects (1993), Chapayev and Void (1996), and Generation P (1999). He is a laureate of multiple literary awards including the Russian Little Booker Prize (1993) and the Russian National Bestseller (2004), the former for the short story collection The Blue Lantern (1991). In 2011 he was nominated for the Nobel prize in Literature. His books are multi-layered postmodernist (disputed) texts fusing elements of pop culture and esoteric philosophies while carrying conventions of the science fiction genre. Some critics relate his prose to the New sincerity literary movement.\n"
     ]
    }
   ],
   "source": [
    "import requests\n",
    "import time\n",
    "\n",
    "\n",
    "def get_wikipedia_author_summary(author_name, sleep=0.2):\n",
    "    url = \"https://en.wikipedia.org/w/api.php\"\n",
    "    params = {\n",
    "        \"action\": \"query\",\n",
    "        \"format\": \"json\",\n",
    "        \"prop\": \"extracts\",\n",
    "        \"exintro\": True, \n",
    "        \"explaintext\": True, \n",
    "        \"redirects\": 1, \n",
    "        \"titles\": author_name\n",
    "    }\n",
    "\n",
    "    try:\n",
    "        resp = requests.get(url=url, params=params)\n",
    "        resp.raise_for_status() \n",
    "        time.sleep(sleep) \n",
    "        data = resp.json()\n",
    "        \n",
    "        \n",
    "        dict_pages = data.get(\"query\", {}).get(\"pages\", {})\n",
    "        if not dict_pages:\n",
    "            return \"\"\n",
    "\n",
    "        value = list(dict_pages.keys())[0]\n",
    "        text = dict_pages[value].get(\"extract\", \"\")\n",
    "        return text\n",
    "\n",
    "    except Exception:\n",
    "        return \"\"\n",
    "\n",
    "print(get_wikipedia_author_summary(\"Victor Pelevin\"))"
   ]
  },
  {
   "cell_type": "code",
   "execution_count": 32,
   "id": "a48fcf80",
   "metadata": {},
   "outputs": [
    {
     "name": "stdout",
     "output_type": "stream",
     "text": [
      "1985-01-01 00:00:00\n"
     ]
    }
   ],
   "source": [
    "from datetime import datetime\n",
    "\n",
    "\n",
    "def normalize_date(date_str):\n",
    "    \n",
    "    if not date_str or not isinstance(date_str, str):\n",
    "        return None\n",
    "\n",
    "    try:\n",
    "        if len(date_str) == 4:\n",
    "            date_str += \"-01-01\"\n",
    "            # Year only, assume January 1st\n",
    "           \n",
    "        elif len(date_str) == 7:\n",
    "            date_str += \"-01\"\n",
    "            # Year and month only, assume the 1st day\n",
    "            \n",
    "        elif len(date_str) != 10:\n",
    "            return None\n",
    "            # Full date already\n",
    "\n",
    "        return datetime.strptime(date_str, \"%Y-%m-%d\")\n",
    "    \n",
    "    except Exception:\n",
    "        return None\n",
    "    \n",
    "\n",
    "print(normalize_date(\"1985\"))"
   ]
  }
 ],
 "metadata": {
  "kernelspec": {
   "display_name": "Python 3",
   "language": "python",
   "name": "python3"
  },
  "language_info": {
   "codemirror_mode": {
    "name": "ipython",
    "version": 3
   },
   "file_extension": ".py",
   "mimetype": "text/x-python",
   "name": "python",
   "nbconvert_exporter": "python",
   "pygments_lexer": "ipython3",
   "version": "3.11.2"
  }
 },
 "nbformat": 4,
 "nbformat_minor": 5
}
