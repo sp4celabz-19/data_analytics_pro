{
 "cells": [
  {
   "cell_type": "code",
   "execution_count": 1,
   "id": "ffcbdd86",
   "metadata": {},
   "outputs": [
    {
     "name": "stdout",
     "output_type": "stream",
     "text": [
      "[-4, -2, -8, 7, 5, 2, 5, 8, -10]\n",
      "[-4, -2, -8, 7, 5, 2, 5, 8, -10, -1]\n",
      "[-4, -2, -8, 7, 5, 2, 5, 8, -10, -1, -2, -8, -5, -7]\n",
      "[-4, -2, 9, 7, 5, 2, 5, 8, -10, -1, -2, -8, -5, -7]\n"
     ]
    }
   ],
   "source": [
    "# додати в кінець списку -1\n",
    "# додати в кінець списку елементи списку [-2, -8, -5, -7]\n",
    "# третім елементом додати 9\n",
    "\n",
    "\n",
    "from random import randint\n",
    "\n",
    "\n",
    "main_lst = [randint(-10, 10) for _ in range(9)]\n",
    "print(main_lst)\n",
    "\n",
    "main_lst.append(-1)\n",
    "print(main_lst)\n",
    "\n",
    "add_lst = [-2, -8, -5, -7]\n",
    "main_lst += add_lst\n",
    "print(main_lst)\n",
    "\n",
    "main_lst[2] = 9\n",
    "print(main_lst)\n"
   ]
  },
  {
   "cell_type": "code",
   "execution_count": 2,
   "id": "d2060705",
   "metadata": {},
   "outputs": [
    {
     "name": "stdout",
     "output_type": "stream",
     "text": [
      "[-4, -2, 9, 7, 5, 2, 5, 8, -10, -1, -2, -8, -5, -7]\n",
      "\n",
      "a = -2, count = 2\n",
      "b = 5, count = 2\n",
      "c = 5, count = 2\n",
      "Total count = 6\n"
     ]
    }
   ],
   "source": [
    "# порахувати кількість трьох випадкових чисел (з списку) в списку\n",
    "\n",
    "\n",
    "import random\n",
    "\n",
    "\n",
    "a, b, c = random.choices(main_lst, k=3)\n",
    "\n",
    "total_count = sum(main_lst.count(x) for x in (a, b, c))\n",
    "\n",
    "print(main_lst)\n",
    "print()\n",
    "print(f\"a = {a}, count = {main_lst.count(a)}\")\n",
    "print(f\"b = {b}, count = {main_lst.count(b)}\")\n",
    "print(f\"c = {c}, count = {main_lst.count(c)}\")\n",
    "print(f\"Total count = {total_count}\")"
   ]
  },
  {
   "cell_type": "code",
   "execution_count": 3,
   "id": "214ce330",
   "metadata": {},
   "outputs": [
    {
     "name": "stdout",
     "output_type": "stream",
     "text": [
      "[-4, -2, 9, 7, 5, 2, 5, 8, -10, -1, -2, -8, -5, -7]\n",
      "[12]\n"
     ]
    }
   ],
   "source": [
    "# визначити який індекс в списку має елемент -5 (варіант 1)\n",
    "\n",
    "\n",
    "number = -5\n",
    "\n",
    "c = 0\n",
    "index_list = []\n",
    "while c in range(len(main_lst)):\n",
    "    if main_lst[c] == number:\n",
    "        index_list.append(c)\n",
    "    c += 1\n",
    "\n",
    "print(main_lst)\n",
    "print(index_list)"
   ]
  },
  {
   "cell_type": "code",
   "execution_count": 4,
   "id": "bd702a77",
   "metadata": {},
   "outputs": [
    {
     "name": "stdout",
     "output_type": "stream",
     "text": [
      "[-4, -2, 9, 7, 5, 2, 5, 8, -10, -1, -2, -8, -5, -7]\n",
      "[12]\n"
     ]
    }
   ],
   "source": [
    "# визначити який індекс в списку має елемент -5 (варіант 2)\n",
    "\n",
    "\n",
    "number = -5\n",
    "\n",
    "index_list = [i for i, x in enumerate(main_lst) if x == number]\n",
    "\n",
    "print(main_lst)\n",
    "print(index_list)"
   ]
  },
  {
   "cell_type": "code",
   "execution_count": 5,
   "id": "8df42c33",
   "metadata": {},
   "outputs": [
    {
     "name": "stdout",
     "output_type": "stream",
     "text": [
      "[-4, -2, 9, 7, 5, 2, 5, 8, -10, -1, -2, -8, -5, -7]\n",
      "\n",
      "Number -2 is in current list\n",
      "Number -10 is in current list\n"
     ]
    }
   ],
   "source": [
    "# перевірити чи є в списку -2, -10\n",
    "\n",
    "\n",
    "search_lst = [-2, -10]\n",
    "\n",
    "print(main_lst)\n",
    "print()\n",
    "\n",
    "for number in search_lst:\n",
    "    if number in main_lst:\n",
    "        print(f\"Number {number} is in current list\")\n",
    "    else:\n",
    "        print(f\"Number {number} is not in current list\")"
   ]
  },
  {
   "cell_type": "code",
   "execution_count": 6,
   "id": "8a408002",
   "metadata": {},
   "outputs": [
    {
     "name": "stdout",
     "output_type": "stream",
     "text": [
      "[-4, -2, 9, 7, 5, 2, 5, 8, -10, -1, -2, -8, -5, -7]\n",
      "\n",
      "[-10, -8, -7, -5, -4, -2, -2, -1, 2, 5, 5, 7, 8, 9]\n",
      "[9, 8, 7, 5, 5, 2, -1, -2, -2, -4, -5, -7, -8, -10]\n"
     ]
    }
   ],
   "source": [
    "# відсортувати список\n",
    "# розвернути відсортований список\n",
    "\n",
    "\n",
    "newlst = sorted(main_lst)\n",
    "\n",
    "print(main_lst)\n",
    "print()\n",
    "print(newlst)\n",
    "print(newlst[::-1])\n"
   ]
  },
  {
   "cell_type": "code",
   "execution_count": 7,
   "id": "d8c33a07",
   "metadata": {},
   "outputs": [
    {
     "name": "stdout",
     "output_type": "stream",
     "text": [
      "{'water', 'first aid kit', 'flashlight', 'radio', 'flipflops', 'snacks', 'sunglasses', 'swimsuit'}\n",
      "{'flashlight', 'radio', 'first aid kit'}\n",
      "{'snacks', 'water'}\n",
      "{'flipflops', 'first aid kit', 'sunglasses', 'swimsuit', 'flashlight', 'radio'}\n"
     ]
    }
   ],
   "source": [
    "zombies_are_comming = {'water', 'first aid kit', 'radio', 'flashlight', 'snacks'}\n",
    "pina_colada_is_waiting = {'swimsuit', 'sunglasses', 'flipflops', 'water', 'snacks'}\n",
    "\n",
    "union_set = zombies_are_comming.union(pina_colada_is_waiting)\n",
    "print(union_set)\n",
    "\n",
    "diff_update = zombies_are_comming.difference(pina_colada_is_waiting)\n",
    "print(diff_update)\n",
    "\n",
    "intersect = zombies_are_comming.intersection(pina_colada_is_waiting)\n",
    "print(intersect)\n",
    "\n",
    "symm_diff = zombies_are_comming.symmetric_difference(pina_colada_is_waiting)\n",
    "print(symm_diff)\n"
   ]
  },
  {
   "cell_type": "code",
   "execution_count": 8,
   "id": "e7bd4010",
   "metadata": {},
   "outputs": [
    {
     "name": "stdout",
     "output_type": "stream",
     "text": [
      "{'Inception': {'director': 'Christopher Nolan', 'year': 2010, 'genre': 'Sci-Fi'}, 'Titanic': {'director': 'James Cameron', 'year': 1997, 'genre': 'Romance/Drama'}, 'The Matrix': {'director': 'Lana Wachowski', 'year': 1999, 'genre': 'Sci-Fi'}}\n",
      "\n",
      "Movie Title: Inception\n",
      "Director: Christopher Nolan\n",
      "Year: 2010\n",
      "Genre: Sci-Fi\n",
      "\n",
      "Titles of the movies: 'Inception', 'Titanic', 'The Matrix'\n",
      "\n",
      "{'Inception': {'director': 'Christopher Nolan', 'year': 2010, 'genre': 'Sci-Fi'}, 'The Matrix': {'director': 'Lana Wachowski', 'year': 1999, 'genre': 'Sci-Fi'}}\n"
     ]
    }
   ],
   "source": [
    "movies_data = {}\n",
    "\n",
    "movies_data.update({\n",
    "    \"Inception\": {\"director\": \"Christopher Nolan\", \"year\": 2010, \"genre\": \"Sci-Fi\"},\n",
    "    \"Titanic\": {\"director\": \"James Cameron\", \"year\": 1997, \"genre\": \"Romance/Drama\"},\n",
    "    \"The Matrix\": {\"director\": \"Lana Wachowski\", \"year\": 1999, \"genre\": \"Sci-Fi\"}\n",
    "})\n",
    "\n",
    "print(movies_data)\n",
    "print()\n",
    "\n",
    "\n",
    "movie_title = \"Inception\"\n",
    "\n",
    "if movie_title in movies_data:\n",
    "    print(\n",
    "        f\"Movie Title: {movie_title}\\n\"\n",
    "        f\"Director: {movies_data[movie_title]['director']}\\n\"\n",
    "        f\"Year: {movies_data[movie_title]['year']}\\n\"\n",
    "        f\"Genre: {movies_data[movie_title]['genre']}\"\n",
    "    )\n",
    "\n",
    "else:\n",
    "    print(f\"The movie '{movie_title}' was not found in the current movie database.\")\n",
    "\n",
    "print()\n",
    "\n",
    "print(\"Titles of the movies:\", \", \".join(f\"'{title}'\" for title in movies_data.keys()))\n",
    "\n",
    "print()\n",
    "\n",
    "del movies_data['Titanic']\n",
    "\n",
    "print(movies_data)\n"
   ]
  },
  {
   "cell_type": "code",
   "execution_count": 9,
   "id": "30c5a74f",
   "metadata": {},
   "outputs": [
    {
     "name": "stdout",
     "output_type": "stream",
     "text": [
      "John and Mary\n",
      "John and Sam\n",
      "John and Mark\n",
      "John and Kate\n",
      "Mary and Sam\n",
      "Mary and Mark\n",
      "Mary and Kate\n",
      "Sam and Mark\n",
      "Sam and Kate\n",
      "Mark and Kate\n"
     ]
    }
   ],
   "source": [
    "from itertools import combinations\n",
    "\n",
    "\n",
    "players = [\"John\", \"Mary\", \"Sam\", \"Mark\", \"Kate\"]\n",
    "\n",
    "pairs = list(combinations(players, 2))\n",
    "\n",
    "for pair in pairs:\n",
    "    print(f\"{pair[0]} and {pair[1]}\")"
   ]
  },
  {
   "cell_type": "code",
   "execution_count": 10,
   "id": "03f44ac9",
   "metadata": {},
   "outputs": [
    {
     "name": "stdout",
     "output_type": "stream",
     "text": [
      "red marker, professional\n",
      "red marker, child\n",
      "red marker, office\n",
      "blue marker, professional\n",
      "blue marker, child\n",
      "blue marker, office\n",
      "green marker, professional\n",
      "green marker, child\n",
      "green marker, office\n"
     ]
    }
   ],
   "source": [
    "from itertools import product\n",
    "\n",
    "\n",
    "colours = [\"red\", \"blue\", \"green\"]\n",
    "\n",
    "types = [\"professional\", \"child\", \"office\"]\n",
    "\n",
    "pairs = list(product(colours, types))\n",
    "\n",
    "for pair in pairs:\n",
    "    print(f\"{pair[0]} marker, {pair[1]}\")\n"
   ]
  },
  {
   "cell_type": "code",
   "execution_count": 11,
   "id": "384ff16e",
   "metadata": {},
   "outputs": [
    {
     "name": "stdout",
     "output_type": "stream",
     "text": [
      "[('A', 'B'), ('B', 'C'), ('C', 'D'), ('D', 'A')]\n"
     ]
    }
   ],
   "source": [
    "players = [\"A\", \"B\", \"C\", \"D\"]\n",
    "\n",
    "pairs = list(zip(players, players[1:] + players[:1]))\n",
    "\n",
    "print(pairs)"
   ]
  },
  {
   "cell_type": "code",
   "execution_count": 12,
   "id": "6c020a60",
   "metadata": {},
   "outputs": [
    {
     "name": "stdout",
     "output_type": "stream",
     "text": [
      "Counter({5: 16, 4: 13, 7: 11, 2: 11, 1: 9, 10: 9, 8: 9, 9: 8, 3: 7, 6: 7})\n",
      "Most frequently encountered objects: [(5, 16), (4, 13)]\n",
      "Counter without the most frequent element: Counter({4: 13, 7: 11, 2: 11, 1: 9, 10: 9, 8: 9, 9: 8, 3: 7, 6: 7})\n",
      "Updated Counter: Counter({4: 16, 8: 12, 7: 11, 2: 11, 10: 11, 1: 9, 3: 8, 9: 8, 6: 7, 5: 1})\n"
     ]
    }
   ],
   "source": [
    "import random\n",
    "from collections import Counter\n",
    "\n",
    "\n",
    "numb_lst = [random.randint(1, 10) for _ in range(100)]\n",
    "\n",
    "count = Counter(numb_lst)\n",
    "\n",
    "print(count)\n",
    "\n",
    "top_elem = count.most_common(2)\n",
    "\n",
    "print(\"Most frequently encountered objects:\", top_elem)\n",
    "\n",
    "\n",
    "most_common = count.most_common(1)[0][0]\n",
    "\n",
    "del count[most_common]\n",
    "\n",
    "print(\"Counter without the most frequent element:\", count)\n",
    "\n",
    "\n",
    "new_numbers = [random.randint(1, 10) for _ in range(10)]\n",
    "\n",
    "count.update(new_numbers)\n",
    "\n",
    "print(\"Updated Counter:\", count)\n"
   ]
  },
  {
   "cell_type": "code",
   "execution_count": 13,
   "id": "1fb55fde",
   "metadata": {},
   "outputs": [
    {
     "name": "stdout",
     "output_type": "stream",
     "text": [
      "Generated: [3, 14, 1, 6, 6, 18, 16, 8, 18, 10]\n",
      "Result deque: [8, 6, 6, 1, 3, 10, 14, 18, 16, 18, 10]\n"
     ]
    }
   ],
   "source": [
    "import random\n",
    "from collections import deque\n",
    "\n",
    "\n",
    "dq = deque([10])\n",
    "\n",
    "gen_lst = [random.randint(0, 20) for _ in range(10)]\n",
    "print(\"Generated:\", gen_lst)\n",
    "\n",
    "for num in gen_lst:\n",
    "    if num < 10:\n",
    "        dq.appendleft(num)\n",
    "    else:\n",
    "        dq.append(num)\n",
    "\n",
    "print(\"Result deque:\", list(dq))"
   ]
  }
 ],
 "metadata": {
  "kernelspec": {
   "display_name": "Python 3",
   "language": "python",
   "name": "python3"
  },
  "language_info": {
   "codemirror_mode": {
    "name": "ipython",
    "version": 3
   },
   "file_extension": ".py",
   "mimetype": "text/x-python",
   "name": "python",
   "nbconvert_exporter": "python",
   "pygments_lexer": "ipython3",
   "version": "3.11.2"
  }
 },
 "nbformat": 4,
 "nbformat_minor": 5
}
