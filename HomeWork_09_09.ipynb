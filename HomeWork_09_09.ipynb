{
 "cells": [
  {
   "cell_type": "code",
   "execution_count": 26,
   "id": "1841f296",
   "metadata": {},
   "outputs": [
    {
     "data": {
      "text/plain": [
       "array([[0, 1, 2],\n",
       "       [3, 4, 5]])"
      ]
     },
     "execution_count": 26,
     "metadata": {},
     "output_type": "execute_result"
    }
   ],
   "source": [
    "import numpy as np\n",
    "\n",
    "npa_2 = np.reshape(np.arange(6), (2, 3))\n",
    "npa_2\n"
   ]
  },
  {
   "cell_type": "code",
   "execution_count": 28,
   "id": "5749e4c7",
   "metadata": {},
   "outputs": [
    {
     "data": {
      "text/plain": [
       "array([ 3, 12])"
      ]
     },
     "execution_count": 28,
     "metadata": {},
     "output_type": "execute_result"
    }
   ],
   "source": [
    "np.sum(npa_2, axis = 1)"
   ]
  },
  {
   "cell_type": "code",
   "execution_count": 34,
   "id": "31fcdfe9",
   "metadata": {},
   "outputs": [
    {
     "data": {
      "text/plain": [
       "array([[ 0,  1,  2,  3,  4,  5,  6,  7,  8],\n",
       "       [ 9, 10, 11, 12, 13, 14, 15, 16, 17]])"
      ]
     },
     "execution_count": 34,
     "metadata": {},
     "output_type": "execute_result"
    }
   ],
   "source": [
    "npa_1 = np.reshape(np.arange(18), (2, 9))\n",
    "npa_1"
   ]
  },
  {
   "cell_type": "code",
   "execution_count": 35,
   "id": "88b9b66e",
   "metadata": {},
   "outputs": [
    {
     "data": {
      "text/plain": [
       "np.int64(17)"
      ]
     },
     "execution_count": 35,
     "metadata": {},
     "output_type": "execute_result"
    }
   ],
   "source": [
    "np.argmax(npa_1)"
   ]
  },
  {
   "cell_type": "code",
   "execution_count": null,
   "id": "99444f2b",
   "metadata": {},
   "outputs": [
    {
     "data": {
      "text/html": [
       "<div>\n",
       "<style scoped>\n",
       "    .dataframe tbody tr th:only-of-type {\n",
       "        vertical-align: middle;\n",
       "    }\n",
       "\n",
       "    .dataframe tbody tr th {\n",
       "        vertical-align: top;\n",
       "    }\n",
       "\n",
       "    .dataframe thead th {\n",
       "        text-align: right;\n",
       "    }\n",
       "</style>\n",
       "<table border=\"1\" class=\"dataframe\">\n",
       "  <thead>\n",
       "    <tr style=\"text-align: right;\">\n",
       "      <th></th>\n",
       "      <th>title</th>\n",
       "      <th>author</th>\n",
       "      <th>categories</th>\n",
       "      <th>pageCount</th>\n",
       "      <th>averageRating</th>\n",
       "      <th>ratingsCount</th>\n",
       "      <th>publishedDate</th>\n",
       "      <th>description</th>\n",
       "    </tr>\n",
       "  </thead>\n",
       "  <tbody>\n",
       "    <tr>\n",
       "      <th>0</th>\n",
       "      <td>1876</td>\n",
       "      <td>Gore Vidal</td>\n",
       "      <td>Fiction</td>\n",
       "      <td>385.0</td>\n",
       "      <td>NaN</td>\n",
       "      <td>NaN</td>\n",
       "      <td>2018-08-22</td>\n",
       "      <td>The third volume of Gore Vidal's magnificent s...</td>\n",
       "    </tr>\n",
       "    <tr>\n",
       "      <th>1</th>\n",
       "      <td>\"\"\"...And Ladies of the Club\"\"\"</td>\n",
       "      <td>Helen Hooven Santmyer</td>\n",
       "      <td>NaN</td>\n",
       "      <td>1433.0</td>\n",
       "      <td>NaN</td>\n",
       "      <td>NaN</td>\n",
       "      <td>1986</td>\n",
       "      <td>NaN</td>\n",
       "    </tr>\n",
       "    <tr>\n",
       "      <th>2</th>\n",
       "      <td>11/22/63</td>\n",
       "      <td>Stephen King</td>\n",
       "      <td>Fiction</td>\n",
       "      <td>866.0</td>\n",
       "      <td>4.0</td>\n",
       "      <td>2.0</td>\n",
       "      <td>2011-11-08</td>\n",
       "      <td>ON NOVEMBER 22, 1963, THREE SHOTS RANG OUT IN ...</td>\n",
       "    </tr>\n",
       "    <tr>\n",
       "      <th>3</th>\n",
       "      <td>2010: Odyssey Two</td>\n",
       "      <td>Arthur C. Clarke</td>\n",
       "      <td>Fiction</td>\n",
       "      <td>328.0</td>\n",
       "      <td>3.0</td>\n",
       "      <td>1.0</td>\n",
       "      <td>1982</td>\n",
       "      <td>\"\"\"A daring romp through the solar system and ...</td>\n",
       "    </tr>\n",
       "    <tr>\n",
       "      <th>4</th>\n",
       "      <td>A Court of Mist and Fury</td>\n",
       "      <td>Sarah J. Maas</td>\n",
       "      <td>Fiction</td>\n",
       "      <td>678.0</td>\n",
       "      <td>4.5</td>\n",
       "      <td>4.0</td>\n",
       "      <td>2016-05-03</td>\n",
       "      <td>The second instalment of the GLOBAL PHENOMENON...</td>\n",
       "    </tr>\n",
       "  </tbody>\n",
       "</table>\n",
       "</div>"
      ],
      "text/plain": [
       "                             title                 author categories  \\\n",
       "0                             1876             Gore Vidal    Fiction   \n",
       "1  \"\"\"...And Ladies of the Club\"\"\"  Helen Hooven Santmyer        NaN   \n",
       "2                         11/22/63           Stephen King    Fiction   \n",
       "3                2010: Odyssey Two       Arthur C. Clarke    Fiction   \n",
       "4         A Court of Mist and Fury          Sarah J. Maas    Fiction   \n",
       "\n",
       "   pageCount  averageRating  ratingsCount publishedDate  \\\n",
       "0      385.0            NaN           NaN    2018-08-22   \n",
       "1     1433.0            NaN           NaN          1986   \n",
       "2      866.0            4.0           2.0    2011-11-08   \n",
       "3      328.0            3.0           1.0          1982   \n",
       "4      678.0            4.5           4.0    2016-05-03   \n",
       "\n",
       "                                         description  \n",
       "0  The third volume of Gore Vidal's magnificent s...  \n",
       "1                                                NaN  \n",
       "2  ON NOVEMBER 22, 1963, THREE SHOTS RANG OUT IN ...  \n",
       "3  \"\"\"A daring romp through the solar system and ...  \n",
       "4  The second instalment of the GLOBAL PHENOMENON...  "
      ]
     },
     "execution_count": 1,
     "metadata": {},
     "output_type": "execute_result"
    }
   ],
   "source": [
    "import pandas as pd\n",
    "import csv\n",
    "\n",
    "\n",
    "df = pd.read_csv(\n",
    "    '/content/book_info.csv',\n",
    "    delimiter=';',           \n",
    "    quoting=csv.QUOTE_NONE,  \n",
    "    encoding='utf-8',\n",
    "    on_bad_lines='skip'      \n",
    ")\n",
    "\n",
    "df.head()"
   ]
  },
  {
   "cell_type": "code",
   "execution_count": null,
   "id": "3aa341e5",
   "metadata": {},
   "outputs": [
    {
     "name": "stdout",
     "output_type": "stream",
     "text": [
      "Pearson correlation: 0.136, p-value: 0.136\n",
      "Weak or no correlation, because correlation coefficient is closer to 0.\n",
      "Because p-value (significance level) is greater than 0.05, correlation is statistically insignificant.\n"
     ]
    }
   ],
   "source": [
    "from scipy.stats import pearsonr\n",
    "\n",
    "\n",
    "data = df[['pageCount', 'ratingsCount', 'averageRating']].dropna()\n",
    "\n",
    "pearson_corr, pearson_p = pearsonr(data['pageCount'], data['averageRating'])\n",
    "\n",
    "\n",
    "print(f\"Pearson correlation: {round(pearson_corr, 3)}, p-value: {round(pearson_p, 3)}\")\n",
    "\n",
    "if abs(pearson_corr) < 0.3:\n",
    "    print(\"Very weak or no correlation.\")\n",
    "elif 0.3 <= pearson_corr < 0.5:\n",
    "    print(\"Weak positive correlation.\")\n",
    "elif pearson_corr >= 0.5:\n",
    "    print(\"Strong positive correlation.\")\n",
    "elif -0.5 < pearson_corr <= -0.3:\n",
    "    print(\"Weak negative correlation.\")\n",
    "elif pearson_corr <= -0.5:\n",
    "    print(\"Strong negative correlation.\")\n",
    "\n",
    "\n",
    "if pearson_p < 0.05:\n",
    "    print(\"Correlation is statistically significant (p < 0.05).\")\n",
    "\n",
    "else:\n",
    "    print(\"Correlation is not statistically significant (p >= 0.05).\")"
   ]
  },
  {
   "cell_type": "code",
   "execution_count": null,
   "id": "f5d74a60",
   "metadata": {},
   "outputs": [
    {
     "name": "stdout",
     "output_type": "stream",
     "text": [
      "                            OLS Regression Results                            \n",
      "==============================================================================\n",
      "Dep. Variable:          averageRating   R-squared:                       0.022\n",
      "Model:                            OLS   Adj. R-squared:                  0.011\n",
      "Method:                 Least Squares   F-statistic:                     2.091\n",
      "Date:                Sun, 22 Jun 2025   Prob (F-statistic):              0.127\n",
      "Time:                        03:33:19   Log-Likelihood:                -224.86\n",
      "No. Observations:                 189   AIC:                             455.7\n",
      "Df Residuals:                     186   BIC:                             465.5\n",
      "Df Model:                           2                                         \n",
      "Covariance Type:            nonrobust                                         \n",
      "================================================================================\n",
      "                   coef    std err          t      P>|t|      [0.025      0.975]\n",
      "--------------------------------------------------------------------------------\n",
      "const            4.0536      0.114     35.610      0.000       3.829       4.278\n",
      "pageCount        0.0004      0.000      1.853      0.066   -2.53e-05       0.001\n",
      "ratingsCount    -0.0002      0.000     -0.809      0.419      -0.001       0.000\n",
      "==============================================================================\n",
      "Omnibus:                       51.841   Durbin-Watson:                   2.017\n",
      "Prob(Omnibus):                  0.000   Jarque-Bera (JB):               98.914\n",
      "Skew:                          -1.331   Prob(JB):                     3.32e-22\n",
      "Kurtosis:                       5.340   Cond. No.                     1.05e+03\n",
      "==============================================================================\n",
      "\n",
      "Notes:\n",
      "[1] Standard Errors assume that the covariance matrix of the errors is correctly specified.\n",
      "[2] The condition number is large, 1.05e+03. This might indicate that there are\n",
      "strong multicollinearity or other numerical problems.\n"
     ]
    }
   ],
   "source": [
    "import statsmodels.api as sm\n",
    "\n",
    "\n",
    "y = data['averageRating']\n",
    "X = data[['pageCount', 'ratingsCount']]\n",
    "X = sm.add_constant(X)  \n",
    "\n",
    "model = sm.OLS(y, X).fit()\n",
    "\n",
    "print(model.summary())"
   ]
  },
  {
   "cell_type": "code",
   "execution_count": null,
   "id": "386d7ade",
   "metadata": {},
   "outputs": [],
   "source": [
    "# Рассматривая результаты OLS регрессии, обращая внимание на общие ключевые метрики модели, можно заметить следующее: R-squared = 0.022 \n",
    "# показывает очень слабую предсказательную способность, лишь 2.2 % дисперсии рейтинга, Prob (F-statistic) = 0.127, что больше 0.05, \n",
    "# говорит о том что модель не является статистически значимой. Если рассматривать влияния переменных, то у pageCount p-value = 0.066, что \n",
    "# является показателем крайне низкого влияния или его отсутствия. При этом можно заметить что коэффициент регрессии равен 0.0004. Это \n",
    "# означает что с каждой лишней страницей происходит незначительный прирост у рейтинга в размере 0.0004. У переменной ratingsCount \n",
    "# отрицательный, равный -0.0002, означающий что влияние данной переменной отсутствует. Исходя из всего вышеперечисленного можно сделать \n",
    "# вывод что влияние переменной pageCount крайне слабое, в то время как влияния ratingsCount вообще не наблюдается."
   ]
  },
  {
   "cell_type": "code",
   "execution_count": null,
   "id": "62544a1c",
   "metadata": {},
   "outputs": [
    {
     "data": {
      "image/png": "[encoded data removed]",
      "text/plain": [
       "<Figure size 600x200 with 1 Axes>"
      ]
     },
     "metadata": {},
     "output_type": "display_data"
    },
    {
     "name": "stdout",
     "output_type": "stream",
     "text": [
      "Shapiro-Wilk: statistic=0.1571, p-value=0.0000\n"
     ]
    }
   ],
   "source": [
    "import seaborn as sns\n",
    "import matplotlib.pyplot as plt\n",
    "from scipy.stats import shapiro\n",
    "\n",
    "\n",
    "ratings = data['ratingsCount']\n",
    "\n",
    "plt.figure(figsize=(6, 2))\n",
    "sns.boxplot(x=ratings)\n",
    "plt.title(\"Boxplot: ratingsCount\")\n",
    "plt.grid(True)\n",
    "plt.show()\n",
    "\n",
    "shapiro_stat, shapiro_p = shapiro(ratings.sample(n=500) if len(ratings) > 500 else ratings)\n",
    "\n",
    "print(f\"Shapiro-Wilk: statistic={shapiro_stat:.4f}, p-value={shapiro_p:.4f}\")\n"
   ]
  },
  {
   "cell_type": "code",
   "execution_count": null,
   "id": "d2cb9a26",
   "metadata": {},
   "outputs": [],
   "source": [
    "# Исходя из результатов теста Shapiro-Wilk, а также boxplot-графика можно сделать следущие выводы: тест Shapiro-Wilk показал\n",
    "# p-value = 0.0000, что меньше 0.05, нулевая гипотеза о нормальности распределения отвергается, что также подтверждается графиком, box и\n",
    "# whiskers расположены преимущественно возле нуля, плотно сжаты, имеется большое число выбросов, распределение сильно скошено вправо,\n",
    "# медиана мала, большинство книг имеет низкое количество оценок."
   ]
  }
 ],
 "metadata": {
  "kernelspec": {
   "display_name": "Python 3",
   "language": "python",
   "name": "python3"
  },
  "language_info": {
   "codemirror_mode": {
    "name": "ipython",
    "version": 3
   },
   "file_extension": ".py",
   "mimetype": "text/x-python",
   "name": "python",
   "nbconvert_exporter": "python",
   "pygments_lexer": "ipython3",
   "version": "3.11.2"
  }
 },
 "nbformat": 4,
 "nbformat_minor": 5
}
