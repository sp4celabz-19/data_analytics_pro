{
 "cells": [
  {
   "cell_type": "code",
   "execution_count": 2,
   "id": "d7b86af1",
   "metadata": {},
   "outputs": [
    {
     "name": "stdout",
     "output_type": "stream",
     "text": [
      "[{'title': 'Love Story', 'author': 'Erich Segal', 'year': 1970}, {'title': \"The French Lieutenant's Woman\", 'author': 'John Fowles', 'year': 1970}, {'title': 'Islands in the Stream', 'author': 'Ernest Hemingway', 'year': 1970}]\n",
      "550\n"
     ]
    }
   ],
   "source": [
    "import re\n",
    "\n",
    "\n",
    "def load_books_by_year(filepath):\n",
    "    \n",
    "    books = []\n",
    "    current_year = None\n",
    "    pattern = re.compile(r'^(.*?)\\s+by\\s+(.*)$', re.IGNORECASE)\n",
    "\n",
    "    try:\n",
    "        with open(filepath, 'r', encoding='utf-8') as file:\n",
    "            for line in file:\n",
    "                line = line.strip()\n",
    "\n",
    "                if not line:\n",
    "                    continue  \n",
    "\n",
    "                if line.isdigit() and len(line) == 4:\n",
    "                    current_year = int(line)\n",
    "                    continue\n",
    "\n",
    "                if current_year:\n",
    "                    match = pattern.match(line)\n",
    "                    if match:\n",
    "                        title = match.group(1).strip()\n",
    "                        author = match.group(2).strip()\n",
    "                        books.append({\n",
    "                            'title': title,\n",
    "                            'author': author,\n",
    "                            'year': current_year\n",
    "                        })\n",
    "\n",
    "    except FileNotFoundError:\n",
    "        print(f\"File '{filepath}' not found.\")\n",
    "    except Exception as e:\n",
    "        print(f\"File processing error: {e}\")\n",
    "\n",
    "    return books\n",
    "\n",
    "\n",
    "all_books = load_books_by_year(filepath = 'source_data.txt')\n",
    "print(all_books[:3])\n",
    "\n",
    "print(len(all_books))"
   ]
  },
  {
   "cell_type": "code",
   "execution_count": 3,
   "id": "efd695b3",
   "metadata": {},
   "outputs": [
    {
     "name": "stdout",
     "output_type": "stream",
     "text": [
      "[(('A Man in Full', 'Tom Wolfe'), {'title': 'A Man in Full', 'author': 'Tom Wolfe', 'categories': 'Fiction', 'pageCount': 756.0, 'averageRating': nan, 'ratingsCount': nan, 'publishedDate': '2010-04-01', 'description': \"Tom Wolfe's THE BONFIRE OF THE VANITIES defined an era and established Wolfe as our prime fictional chronicler of America at its most outrageous and alive. In his #1 New York Times bestseller and National Book Award finalist, A MAN IN FULL, the setting shifts to Atlanta, Georgia—a racially mixed lat\"}), (('A Painted House', 'John Grisham'), {'title': 'A Painted House', 'author': 'John Grisham', 'categories': 'Fiction', 'pageCount': 394.0, 'averageRating': nan, 'ratingsCount': nan, 'publishedDate': '2001', 'description': \"It is the 1950s in Arkansas, the cotton season and to the Chandler family it means hard work, temporary workers and a host of complications. A story inspired by Grisham's own childhood in rural Arkansas. The narrator is a seven year old farm boy, who lives in the cotton fields with his parents and g\"}), (('A Perfect Spy', 'John le Carré'), {'title': 'A Perfect Spy', 'author': 'John le Carré', 'categories': 'Fiction', 'pageCount': 410.0, 'averageRating': nan, 'ratingsCount': nan, 'publishedDate': '2018-09-27', 'description': \"'The best English novel since the war' Philip Roth Magnus Pym - ranking diplomat, consummate Englishman, loving husband, secret agent - has vanished. Has he defected? Gone to ground? As the hunt for Pym intensifies, the secrets of his life are revealed: the people he has loved and betrayed, the unre\"})]\n"
     ]
    }
   ],
   "source": [
    "import pandas as pd\n",
    "\n",
    "\n",
    "def load_book_info(filepath):\n",
    "    try:\n",
    "        df = pd.read_csv(filepath, delimiter=';', encoding='utf-8')\n",
    "\n",
    "        lst_values = df.to_dict(orient='records')\n",
    "\n",
    "        lst_keys = [(d['title'], d['author']) for d in lst_values]\n",
    "\n",
    "        book_info = dict(zip(lst_keys, lst_values))\n",
    "\n",
    "        return book_info\n",
    "\n",
    "    except FileNotFoundError:\n",
    "        print(f\"File '{filepath}' not found.\")\n",
    "    except KeyError as e:\n",
    "        print(f\"File processing error: {e}\")\n",
    "\n",
    "    return {}\n",
    "\n",
    "\n",
    "# def try_parse_float(value):\n",
    "#     try:\n",
    "#         return float(value)\n",
    "#     except (ValueError, TypeError):\n",
    "#         return None\n",
    "\n",
    "# def try_parse_int(value):\n",
    "#     try:\n",
    "#         return int(float(value))\n",
    "#     except (ValueError, TypeError):\n",
    "#         return None\n",
    "\n",
    "\n",
    "book_info = load_book_info(\"book_info.csv\")\n",
    "\n",
    "\n",
    "print(list(book_info.items())[10:13])\n"
   ]
  },
  {
   "cell_type": "code",
   "execution_count": 3,
   "id": "f7c720f3",
   "metadata": {},
   "outputs": [
    {
     "name": "stdout",
     "output_type": "stream",
     "text": [
      "[{'title': \"The French Lieutenant's Woman\", 'author': 'John Fowles', 'year': 1970, 'categories': nan, 'pageCount': 518.0, 'averageRating': nan, 'ratingsCount': nan, 'publishedDate': '1969', 'description': nan, 'found': True}, {'title': 'Islands in the Stream', 'author': 'Ernest Hemingway', 'year': 1970, 'categories': 'Fiction', 'pageCount': 496.0, 'averageRating': nan, 'ratingsCount': nan, 'publishedDate': '2014-05-22', 'description': \"First published in 1970, nine years after Hemingway's death, this is the story of an artist and adventurer—a man much like Hemingway himself. Beginning in the 1930s, Islands in the Stream follows the fortunes of Thomas Hudson, from his experiences as a painter on the Gulf Stream island of Bimini thr\", 'found': True}]\n",
      "550\n"
     ]
    }
   ],
   "source": [
    "def enrich_books(book_list, info_dict):\n",
    "\n",
    "    book_info_low = {\n",
    "        (title.strip().lower(), author.strip().lower()): data\n",
    "        for (title, author), data in info_dict.items()\n",
    "    }\n",
    "\n",
    "    for book in book_list:\n",
    "        key = (book['title'].strip().lower(), book['author'].strip().lower())\n",
    "        match = book_info_low.get(key)\n",
    "\n",
    "        if match:\n",
    "            book.update(match)\n",
    "            book['found'] = True\n",
    "        else:\n",
    "            book['found'] = False\n",
    "\n",
    "    return all_books\n",
    "\n",
    "\n",
    "enriched_books = enrich_books(all_books, book_info)\n",
    "\n",
    "print(enriched_books[1:3])\n",
    "print(len(enriched_books))"
   ]
  },
  {
   "cell_type": "code",
   "execution_count": 6,
   "id": "6f470246",
   "metadata": {},
   "outputs": [],
   "source": [
    "import json\n",
    "\n",
    "\n",
    "def save_books_to_json(books, filepath):\n",
    "    with open(filepath, 'w', encoding='utf-8') as f:\n",
    "        json.dump(all_books, f, ensure_ascii=False, indent=4)\n",
    "\n",
    "    \n",
    "save_books_to_json(enriched_books, filepath = 'enriched_books.json')"
   ]
  },
  {
   "cell_type": "code",
   "execution_count": null,
   "id": "573a1bdc",
   "metadata": {},
   "outputs": [
    {
     "name": "stdout",
     "output_type": "stream",
     "text": [
      "[{'author': 'Sarah J. Maas',\n",
      "  'averageRating': nan,\n",
      "  'categories': 'Fiction',\n",
      "  'description': 'Lose yourself in the seductive world of the Court of Thorns '\n",
      "                 'and Roses series by internationally bestselling author Sarah '\n",
      "                 'J. Maas with this five-ebook bundle. \"Passionate, violent, '\n",
      "                 'sexy and daring.\" -USA TODAY on A Court of Thorns and Roses '\n",
      "                 'Feyre is a huntress. The skin of a wolf would bring enough g',\n",
      "  'pageCount': 2964.0,\n",
      "  'publishedDate': '2022-05-05',\n",
      "  'ratingsCount': nan,\n",
      "  'title': 'A Court of Thorns and Roses'},\n",
      " {'author': 'Patricia Cornwell',\n",
      "  'averageRating': 5.0,\n",
      "  'categories': 'Fiction',\n",
      "  'description': 'Five action-packed thrillers in the #1 New York Times '\n",
      "                 'bestselling Scarpetta series: Cause of Death, Unnatural '\n",
      "                 'Exposure, Point of Origin, and Trace. “Cornwell remains the '\n",
      "                 'master of incorporating real-life science into '\n",
      "                 'pulse-pounding fiction.”—The Philadelphia Inquirer IN '\n",
      "                 'DEVELOPMENT AS THE ORIGINAL S',\n",
      "  'pageCount': 1907.0,\n",
      "  'publishedDate': '2011-07-05',\n",
      "  'ratingsCount': 2.0,\n",
      "  'title': 'Scarpetta'},\n",
      " {'author': 'E. L. James',\n",
      "  'averageRating': nan,\n",
      "  'categories': 'Fiction',\n",
      "  'description': \"All three novels from Christian's point of view in EL \"\n",
      "                 \"James's #1 New York Times bestselling Fifty Shades of Grey \"\n",
      "                 'series—now available in one e-book bundle. Discover the '\n",
      "                 'world of Fifty Shades: An Instant #1 New York Times '\n",
      "                 'Bestseller More than 165 Million Copies Sold Worldwide One '\n",
      "                 'of 100 Great Reads i',\n",
      "  'pageCount': 1783.0,\n",
      "  'publishedDate': '2021-11-16',\n",
      "  'ratingsCount': nan,\n",
      "  'title': 'Fifty Shades trilogy box set'}]\n"
     ]
    }
   ],
   "source": [
    "from pprint import pprint\n",
    "\n",
    "\n",
    "def top_longest_books(books, top_n=3):\n",
    "\n",
    "    df = pd.read_csv(books, delimiter=';', encoding='utf-8')\n",
    "\n",
    "    df['pageCount'] = pd.to_numeric(df['pageCount'], errors='coerce')\n",
    "\n",
    "    df_valid = df[df['pageCount'].notna()]\n",
    "\n",
    "    df_sort = df_valid.sort_values(by='pageCount', ascending=False).head(top_n)\n",
    "\n",
    "    top_books = df_sort.to_dict(orient='records')\n",
    "\n",
    "\n",
    "    return top_books\n",
    "\n",
    "pprint(top_longest_books('book_info.csv'))"
   ]
  },
  {
   "cell_type": "code",
   "execution_count": 14,
   "id": "f1e803a7",
   "metadata": {},
   "outputs": [
    {
     "data": {
      "text/plain": [
       "[('Stephen King', 32), ('Danielle Steel', 32), ('John Grisham', 31)]"
      ]
     },
     "execution_count": 14,
     "metadata": {},
     "output_type": "execute_result"
    }
   ],
   "source": [
    "from collections import Counter\n",
    "\n",
    "\n",
    "def most_frequent_authors(books, top_n=3):\n",
    "\n",
    "    auth_list = list(i['author'] for i in books)\n",
    "\n",
    "    counts = Counter(auth_list)\n",
    "\n",
    "    mydict = dict(counts)\n",
    "\n",
    "    top3 = sorted(mydict.items(), key=lambda x: x[1], reverse=True)[:top_n]\n",
    "\n",
    "    return top3\n",
    "\n",
    "most_frequent_authors(enriched_books)"
   ]
  }
 ],
 "metadata": {
  "kernelspec": {
   "display_name": "Python 3",
   "language": "python",
   "name": "python3"
  },
  "language_info": {
   "codemirror_mode": {
    "name": "ipython",
    "version": 3
   },
   "file_extension": ".py",
   "mimetype": "text/x-python",
   "name": "python",
   "nbconvert_exporter": "python",
   "pygments_lexer": "ipython3",
   "version": "3.11.2"
  }
 },
 "nbformat": 4,
 "nbformat_minor": 5
}
