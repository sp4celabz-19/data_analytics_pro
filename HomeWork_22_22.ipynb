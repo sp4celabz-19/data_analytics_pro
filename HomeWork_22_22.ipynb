{
 "cells": [
  {
   "cell_type": "code",
   "execution_count": 1,
   "id": "4736b8e3",
   "metadata": {},
   "outputs": [],
   "source": [
    "from math import sqrt\n",
    "from scipy.stats import norm\n",
    "\n",
    "\n",
    "users_amount_A = 10437\n",
    "users_amount_B = 10218\n",
    "\n",
    "conv_number_A = 954\n",
    "conv_number_B = 1012"
   ]
  },
  {
   "cell_type": "code",
   "execution_count": 4,
   "id": "15a5334f",
   "metadata": {},
   "outputs": [
    {
     "name": "stdout",
     "output_type": "stream",
     "text": [
      "The conversion rate for group A is 9.14 %\n",
      "The conversion rate for group B is 9.9 %\n"
     ]
    }
   ],
   "source": [
    "# 1.Обчисліть конверсію для кожної групи (у відсотках з 2 знаками після коми).\n",
    "\n",
    "\n",
    "conv_A = conv_number_A / users_amount_A\n",
    "conv_B = conv_number_B / users_amount_B\n",
    "\n",
    "conv_perc_A = round(conv_A * 100, 2)\n",
    "conv_perc_B = round(conv_B * 100, 2)\n",
    "\n",
    "print(f\"The conversion rate for group A is {conv_perc_A} %\")\n",
    "print(f\"The conversion rate for group B is {conv_perc_B} %\")"
   ]
  },
  {
   "cell_type": "code",
   "execution_count": 5,
   "id": "979076f2",
   "metadata": {},
   "outputs": [
    {
     "name": "stdout",
     "output_type": "stream",
     "text": [
      "The absolute difference between conversion B and conversion A is 0.76 %.\n",
      "The relative difference between conversion B and conversion A is 8.35 %.\n"
     ]
    }
   ],
   "source": [
    "# 2.Яка абсолютна та відносна різниця в конверсії між групами? ( A-B та (B - A)/A )\n",
    "\n",
    "\n",
    "absolute_diff = round((conv_B - conv_A) * 100, 2)\n",
    "relative_diff = round(((conv_B - conv_A) / conv_A) * 100, 2)\n",
    "\n",
    "print(f\"The absolute difference between conversion B and conversion A is {absolute_diff} %.\")\n",
    "print(f\"The relative difference between conversion B and conversion A is {relative_diff} %.\")"
   ]
  },
  {
   "cell_type": "code",
   "execution_count": 6,
   "id": "6d1b669a",
   "metadata": {},
   "outputs": [
    {
     "name": "stdout",
     "output_type": "stream",
     "text": [
      "The value of the z-statistic is 1.87\n",
      "p-value is equal to 0.062\n"
     ]
    }
   ],
   "source": [
    "# 3.Виконайте Z-тест для порівняння пропорцій:\n",
    "#   - Розрахуйте Z-статистику.\n",
    "#   - Знайдіть p-value.\n",
    "\n",
    "\n",
    "# pooled proportion\n",
    "total_conv = (conv_number_A + conv_number_B) / (users_amount_A + users_amount_B)\n",
    "\n",
    "# standard error\n",
    "standard_error = sqrt(total_conv * (1 - total_conv) * (1 / users_amount_A + 1 / users_amount_B))\n",
    "\n",
    "# z-statistic\n",
    "z_stat = (conv_B - conv_A) / standard_error\n",
    "\n",
    "# p-value for two-tailed test\n",
    "p_value = 2 * (1 - norm.cdf(abs(z_stat)))\n",
    "\n",
    "print(f\"The value of the z-statistic is {round(z_stat, 3)}\")\n",
    "print(f\"p-value is equal to {round(p_value, 3)}\")"
   ]
  },
  {
   "cell_type": "code",
   "execution_count": null,
   "id": "a52985db",
   "metadata": {},
   "outputs": [],
   "source": [
    "# 4.Чи можна відхилити нульову гіпотезу?\n",
    "\n",
    "\n",
    "# Вариант B (новая версия, зелёная кнопка) показал положительное изменение конверсии на 8.3% относительно раннего варианта A\n",
    "# (синяя кнопка). Если уровень значимости 5% (α=0.05), то p-value, равный приблизительно 0.061, оказывается чуть выше порога.\n",
    "# Это говорит о том что мы не можем уверенно говорить про реальный эффект (нулевую гипотезу не отклоняем). Но если уровень\n",
    "# 10% (α=0.10), тогда p-value ниже порога, в этом случае можем сказать, что эффект есть (нулевую гипотезу отклоняем).\n"
   ]
  },
  {
   "cell_type": "code",
   "execution_count": null,
   "id": "5458d8b7",
   "metadata": {},
   "outputs": [],
   "source": [
    "# 5.Який висновок ви можете зробити? Чи варто запускати нову кнопку?\n",
    "\n",
    "\n",
    "# Исходя из результатов проведённых исследований можно сделать вывод что зелёная кнопка используется немного чаще — примерно\n",
    "# на 8% больше. Мы почти уверены, что это не случайность, но до полной уверенности не хватает либо большего количества данных,\n",
    "# либо дополнительного, более длительного тестирования, с большим числом людей. Тем не менее, кнопку можно запустить — некоторая\n",
    "# вероятность,что она действительно повысит конверсию и покажет высокую эффективность, имеется."
   ]
  },
  {
   "cell_type": "code",
   "execution_count": null,
   "id": "fd3d7f5a",
   "metadata": {},
   "outputs": [],
   "source": [
    "# 6.Як би ви пояснили результати команді маркетингу?\n",
    "\n",
    "\n",
    "# Пользователи чуть чаще нажимают зелёную кнопку — примерно на 8% чаще. Вероятность, что это случайность, невысока. Мы можем либо\n",
    "# продолжить тест, чтобы убедиться, либо уже запустить зелёную кнопку и посмотреть на результат в реальном времени."
   ]
  }
 ],
 "metadata": {
  "kernelspec": {
   "display_name": "Python 3",
   "language": "python",
   "name": "python3"
  },
  "language_info": {
   "codemirror_mode": {
    "name": "ipython",
    "version": 3
   },
   "file_extension": ".py",
   "mimetype": "text/x-python",
   "name": "python",
   "nbconvert_exporter": "python",
   "pygments_lexer": "ipython3",
   "version": "3.11.2"
  }
 },
 "nbformat": 4,
 "nbformat_minor": 5
}
