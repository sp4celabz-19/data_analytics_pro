{
 "cells": [
  {
   "cell_type": "code",
   "execution_count": 3,
   "id": "86836a14",
   "metadata": {},
   "outputs": [],
   "source": [
    "# 1.Як можна обробити пропущені значення у DataFrame за допомогою pandas? Наведіть 2 приклади.\n",
    "\n",
    "\n",
    "import pandas as pd\n",
    "import csv\n",
    "\n",
    "\n",
    "df = pd.read_csv(\n",
    "    'book_info.csv',\n",
    "    delimiter=';',           \n",
    "    quoting=csv.QUOTE_NONE,  \n",
    "    encoding='utf-8',\n",
    "    on_bad_lines='skip'      \n",
    ")\n",
    "\n",
    "drop_data = df.dropna()  # удаление строк, в которых есть хотя бы одно пропущенное значение\n",
    "\n",
    "fill_data = df.fillna(0)  # заполнение всех пропущенных значений нулями"
   ]
  },
  {
   "cell_type": "code",
   "execution_count": null,
   "id": "34c7bd48",
   "metadata": {},
   "outputs": [],
   "source": [
    "# 2.Як об'єднати два набори даних у pandas за спільною колонкою?\n",
    "\n",
    "\n",
    "# Если, к примеру, есть один dataframe под названием train, со столбцом 'SK_ID_CURR', и второй dataframe с названием previous_loan_counts,\n",
    "# имеющий столбец с таким же названием и содержащим такой же тип данных, объединить два набора данных по общему столбцу можно следующим \n",
    "# образом:\n",
    "\n",
    "# train = train.merge(previous_loan_counts, on='SK_ID_CURR', how='left')\n",
    "\n",
    "# В этом примере происходит присоединение данных к набору train, все строки из которого будут сохранены. Если для какого-то значения из \n",
    "# SK_ID_CURR не найдётся соответствия в previous_loan_counts, то значения из второго DataFrame будут NaN."
   ]
  },
  {
   "cell_type": "code",
   "execution_count": null,
   "id": "05c6ccd9",
   "metadata": {},
   "outputs": [],
   "source": [
    "# 3.Наведіть два способи виявлення або обробки викидів (outliers) у наборі даних з використанням Python.\n",
    "\n",
    "\n",
    "# Способы обработки выбросов в наборе данных:\n",
    "\n",
    "# 1) Метод zscore.\n",
    "\n",
    "\n",
    "# from scipy.stats import zscore\n",
    "\n",
    "# df = df[abs(zscore(df['column_name'])) < 3]\n",
    "\n",
    "\n",
    "# 2) Метод IQR (межквартильный размах)\n",
    "\n",
    "\n",
    "# q1 = df['column_name'].quantile(0.25)\n",
    "# q3 = df['column_name'].quantile(0.75)\n",
    "# iqr = q3 - q1\n",
    "# df = df[(df['column_name'] < q3 + 1.5 * iqr) & (df['column_name'] > q1 - 1.5 * iqr)]"
   ]
  },
  {
   "cell_type": "code",
   "execution_count": 4,
   "id": "864c0769",
   "metadata": {},
   "outputs": [
    {
     "name": "stdout",
     "output_type": "stream",
     "text": [
      "(189, 4)\n",
      "(170, 9)\n"
     ]
    }
   ],
   "source": [
    "# 3) Модель Isolation Forest\n",
    "\n",
    "from sklearn.ensemble import IsolationForest\n",
    "\n",
    "\n",
    "features = ['pageCount', 'averageRating', 'ratingsCount']\n",
    "df_filtered = df[features].dropna() \n",
    "\n",
    "model = IsolationForest(contamination=0.1, random_state=42)\n",
    "model.fit(df_filtered)\n",
    "\n",
    "# 1 — normal, -1 — outlier\n",
    "df_filtered['anomaly'] = model.predict(df_filtered)\n",
    "\n",
    "df_analyzed = df.loc[df_filtered.index].copy()\n",
    "df_analyzed['anomaly'] = df_filtered['anomaly']\n",
    "\n",
    "normal_data = df_analyzed[df_analyzed['anomaly'] == 1]\n",
    "\n",
    "print(df_filtered.shape)\n",
    "print(normal_data.shape)"
   ]
  },
  {
   "cell_type": "code",
   "execution_count": 5,
   "id": "50dbe45b",
   "metadata": {},
   "outputs": [
    {
     "name": "stdout",
     "output_type": "stream",
     "text": [
      "Inside function: [1, 2, 3, 4]\n",
      "After function: [1, 2, 3, 4]\n",
      "Inside function: 15\n",
      "After function: 10\n"
     ]
    }
   ],
   "source": [
    "# 4.Яка різниця між mutable та immutable змінними у Python? Наведіть приклад кожного типу.\n",
    "\n",
    "\n",
    "# Mutable (изменяемые) — это объекты, которые можно изменить после создания.\n",
    "# Например, list (список), dict (словарь), set (множество).\n",
    "# При добавлении, изменении или удалении их элементов — оригинальный объект меняется.\n",
    "# Если в функцию передаётся список, и в ней выполняются изменения, они повлияют на оригинал.\n",
    "\n",
    "def add_element(lst):\n",
    "    lst.append(4)\n",
    "    print(\"Inside function:\", lst)\n",
    "\n",
    "my_list = [1, 2, 3]\n",
    "add_element(my_list)\n",
    "print(\"After function:\", my_list)\n",
    "\n",
    "\n",
    "# Immutable (неизменяемые) — это объекты, которые нельзя изменить после создания.\n",
    "# Например: int, float, bool, str, tuple.\n",
    "# При попытке изменения создаётся новый объект, оригинальный остаётся неизменным.\n",
    "\n",
    "def add_five(x):\n",
    "    x = x + 5\n",
    "    print(\"Inside function:\", x)\n",
    "\n",
    "a = 10\n",
    "add_five(a)\n",
    "print(\"After function:\", a)\n",
    "\n"
   ]
  },
  {
   "cell_type": "code",
   "execution_count": null,
   "id": "bc9f9dfa",
   "metadata": {},
   "outputs": [],
   "source": [
    "# 5.Для чого в Python використовуються функції? \n",
    "\n",
    "\n",
    "# Функция в Python — это именованный блок кода, который выполняет конкретную задачу. Функция определяется один раз, а затем может быть \n",
    "# вызвана многократно в разных местах программы. Это позволяет избежать дублирования кода, улучшает читаемость и упрощает сопровождение \n",
    "# программы."
   ]
  },
  {
   "cell_type": "code",
   "execution_count": 6,
   "id": "696aa427",
   "metadata": {},
   "outputs": [
    {
     "name": "stdout",
     "output_type": "stream",
     "text": [
      "['1', 'True', 'no', 'ok']\n",
      "['1', 'True', 'ok', 'no']\n"
     ]
    }
   ],
   "source": [
    "# 6.Чим відрізняється список (list) від множини (set) у Python? Наведіть приклад ситуації, коли set зручніший.\n",
    "\n",
    "\n",
    "# Список упорядочен, проиндексирован, может иметь дубликаты, в то время как у множества всё наоборот - оно не упорядочено, не имеет \n",
    "# индексов и дубликатов. Кроме того поиск элементов в множестве происходит быстрее чем в списке, так как при поиске в множестве оценка \n",
    "# скорости выполнения алгоритма при увеличении объёма данных будет равна O(1), самое быстрое время выполнения, не зависящее от размера\n",
    "# данных, тогда как при той же задаче у списка оценка скорости будет равна O(n), что будет говорить о том, что время выполнения в данном\n",
    "# случае будет пропорционально количеству элементов. Еще одно отличие от списка в том что над множествами можно проводить определенные \n",
    "# математические операции: set1 & set2 (пересечение), set1 | set2 (объединение), set1 - set2 (разность).\n",
    "# Чаще всего множества используются когда необходимо убрать дубликаты, а также удобны для быстрого поиска элемента.\n",
    "# Существуют ситуации, когда использование множества удобнее, чем списка. Например, есть задача: даны два списка строк ['1', 'True', 'ok']\n",
    "#  и ['no', 'True', 'no']. Сформируйте новый список, который будет состоять из строк, которые присутствуют хотя бы в одном из списков. \n",
    "\n",
    "# Использование множества:\n",
    "\n",
    "list1 = ['1', 'True', 'ok']\n",
    "list2 = ['no', 'True', 'no']\n",
    "\n",
    "result_set = list(set(list1) | set(list2))  \n",
    "print(result_set)\n",
    "\n",
    "\n",
    "# Использование списка:\n",
    "\n",
    "result_lst = []\n",
    "for item in list1 + list2:\n",
    "    if item not in result_lst:\n",
    "        result_lst.append(item)\n",
    "\n",
    "print(result_lst)\n",
    "\n",
    "\n",
    "# Как видно из примера, код при использовании множества проще, короче, быстрее, понятнее.\n"
   ]
  },
  {
   "cell_type": "code",
   "execution_count": 7,
   "id": "9da7fa0b",
   "metadata": {},
   "outputs": [
    {
     "name": "stdout",
     "output_type": "stream",
     "text": [
      "[1, 4, 9, 16, 25]\n"
     ]
    }
   ],
   "source": [
    "# 7.Напишіть приклад використання list comprehension для створення списку квадратів чисел від 1 до 5.\n",
    "\n",
    "\n",
    "mylist = [i ** 2 for i in range(1, 6)]\n",
    "\n",
    "print(mylist)\n"
   ]
  },
  {
   "cell_type": "code",
   "execution_count": 8,
   "id": "b820fcc6",
   "metadata": {},
   "outputs": [
    {
     "name": "stdout",
     "output_type": "stream",
     "text": [
      "     city  sales\n",
      "0  Napoli     70\n",
      "1    Rome    150\n",
      "2  Odessa     80\n",
      "3    Rome    120\n",
      "4  London    130\n",
      "5  Odessa     50\n",
      "\n",
      "city\n",
      "London    130.0\n",
      "Napoli     70.0\n",
      "Odessa     65.0\n",
      "Rome      135.0\n",
      "Name: sales, dtype: float64\n"
     ]
    }
   ],
   "source": [
    "# 8.Що таке groupby() у pandas? Наведіть приклад його використання.\n",
    "\n",
    "\n",
    "# groupby в Pandas группирует данные по какому-то признаку, на основе определенных столбцов. То есть набор данных можно разделить на \n",
    "# меньшие группы на основе значений в этих столбцах. После этого можно применить агрегирующие функции к каждой группе отдельно.\n",
    "\n",
    "# Пример groupby() в Рandas:\n",
    "\n",
    "import pandas as pd\n",
    "\n",
    "data = {\n",
    "    'city': ['Napoli', 'Rome', 'Odessa', 'Rome', 'London', 'Odessa'],\n",
    "    'sales': [70, 150, 80, 120, 130, 50]\n",
    "}\n",
    "\n",
    "df = pd.DataFrame(data)\n",
    "print(df)\n",
    "\n",
    "print()\n",
    "\n",
    "result = df.groupby('city')['sales'].mean()\n",
    "print(result)"
   ]
  },
  {
   "cell_type": "code",
   "execution_count": null,
   "id": "2be34d2a",
   "metadata": {},
   "outputs": [],
   "source": [
    "# 9.У чому переваги використання бібліотеки NumPy у порівнянні зі звичайними списками Python при роботі з числовими даними?\n",
    "\n",
    "\n",
    "# Основные преимущества использования библиотеки NumPy:\n",
    "\n",
    "# - обработка данных в NumPy работает в разы быстрее, так как исключается необходимость в циклах Python, используется язык C и С++ под \n",
    "#   капотом, а также векторные операции.\n",
    "\n",
    "# - применение ряда математических вычислений, агрегирующих функций, статистических операций, производить которые списки не способны.\n",
    "\n",
    "# - при работе с NumPy происходит более эффективное использование памяти, так как если в списке каждый элемент — отдельный объект,\n",
    "#   то в массиве NumPy — все данные хранятся в одной непрерывной области памяти, одного типа (например, только int32 или float64)."
   ]
  },
  {
   "cell_type": "code",
   "execution_count": 9,
   "id": "2ceefd44",
   "metadata": {},
   "outputs": [
    {
     "name": "stdout",
     "output_type": "stream",
     "text": [
      "81\n"
     ]
    }
   ],
   "source": [
    "# 10.Що таке lambda-функція в Python? Наведіть приклад її використання для обчислення квадрата числа.\n",
    "\n",
    "\n",
    "# lambda-конструкция в Python — это короткая, безымянная функция, которую можно записать в одну строку. Она применяется, когда нужно \n",
    "# быстро создать простую функцию, состоящую из одного выражения, без использования ключевого слова def.\n",
    "# Чаще всего lambda-функции используются, когда нужно передать функцию как аргумент в другие функции, такие как sorted(), map(), filter()\n",
    "# и другие.\n",
    "\n",
    "# Структура lambda-функции:\n",
    "\n",
    "# lambda аргументы: выражение\n",
    "\n",
    "\n",
    "square_func = lambda number: number ** 2\n",
    "\n",
    "print(square_func(9))"
   ]
  },
  {
   "cell_type": "code",
   "execution_count": 10,
   "id": "c1ed04ad",
   "metadata": {},
   "outputs": [
    {
     "name": "stdout",
     "output_type": "stream",
     "text": [
      "Категорія товару\n",
      "Випічка     142.0\n",
      "Солодощі    240.0\n",
      "Фрукти      127.0\n",
      "Name: Вартість, dtype: float64\n"
     ]
    }
   ],
   "source": [
    "# 11.Як за допомогою pandas обчислити середнє значення по кожній групі в колонці? (припустимо, у вас є колонки, \"Товар\", \n",
    "#    \"Категорія товару\" і \"Вартість\", обчислити середнє Вартості для кожної Категорії)\n",
    "\n",
    "\n",
    "import pandas as pd\n",
    "\n",
    "\n",
    "data = {\n",
    "    'Товар': ['Яблуко', 'Полуниця', 'Печиво', 'Цукерки', 'Банан', 'Пиріжки', 'Хліб'],\n",
    "    'Категорія товару': ['Фрукти', 'Фрукти', 'Солодощі', 'Солодощі', 'Фрукти', 'Випічка', 'Випічка'],\n",
    "    'Вартість': [110, 200, 350, 130, 70, 250, 35]\n",
    "}\n",
    "\n",
    "df = pd.DataFrame(data)\n",
    "\n",
    "\n",
    "average_price = df.groupby('Категорія товару')['Вартість'].mean()\n",
    "\n",
    "print(round(average_price))"
   ]
  }
 ],
 "metadata": {
  "kernelspec": {
   "display_name": "Python 3",
   "language": "python",
   "name": "python3"
  },
  "language_info": {
   "codemirror_mode": {
    "name": "ipython",
    "version": 3
   },
   "file_extension": ".py",
   "mimetype": "text/x-python",
   "name": "python",
   "nbconvert_exporter": "python",
   "pygments_lexer": "ipython3",
   "version": "3.11.2"
  }
 },
 "nbformat": 4,
 "nbformat_minor": 5
}
